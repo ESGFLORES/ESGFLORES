{
  "cells": [
    {
      "cell_type": "markdown",
      "metadata": {
        "id": "view-in-github",
        "colab_type": "text"
      },
      "source": [
        "<a href=\"https://colab.research.google.com/github/ESGFLORES/ESGFLORES/blob/main/PrograIII.ipynb\" target=\"_parent\"><img src=\"https://colab.research.google.com/assets/colab-badge.svg\" alt=\"Open In Colab\"/></a>"
      ]
    },
    {
      "cell_type": "code",
      "execution_count": null,
      "metadata": {
        "id": "J3rAgPf9MXKl"
      },
      "outputs": [],
      "source": []
    },
    {
      "cell_type": "code",
      "execution_count": null,
      "metadata": {
        "id": "yOOOLeeq6Aig"
      },
      "outputs": [],
      "source": [
        "# Desarrolle un algoritmo en Python que permita obtener los descuentos ISSS, \n",
        "# AFP,  I.S.R,  vacaciones,  aguinaldo  etc.  Uno  para  empresas  y  otro  para \n",
        "# personas. Favor investigue los datos correspondientes según ley. El usuario \n",
        "# deberá ingresar el sueldo y que el sistema le diga el valor neto a pagarle y \n",
        "# las deducciones. (30%)"
      ]
    },
    {
      "cell_type": "code",
      "execution_count": null,
      "metadata": {
        "id": "o_wUzkT9HzTS"
      },
      "outputs": [],
      "source": [
        "# para descontar AFP Y ISSS\n",
        "\n",
        "def DesImpuesto(sueldo):\n",
        "  return (sueldo)*0.03 + (sueldo)*0.0625\n",
        "\n",
        "def calcularSueldo(sueldo):\n",
        "  return(sueldo) - (DesImpuesto(sueldo)) \n",
        "\n",
        "def Impuesto1 (sueldo):\n",
        "  return (calcularSueldo(sueldo) - 472.00)*0.10 + 17.67\n",
        "\n",
        "def Impuesto2 (sueldo):\n",
        "  return (calcularSueldo(sueldo) - 895.24)*0.20 + 60\n",
        "\n",
        "def Impuesto3 (sueldo):\n",
        "  return (calcularSueldo(sueldo) - 2032.10)*0.30 + 288.57\n",
        "\n",
        "#para calcular sueldo con prestacion de AFP ISSS y ISR\n",
        "\n",
        "def sueldo_Prestacion1(calcularSueldo):\n",
        "  return calcularSueldo(sueldo)- Impuesto1(sueldo)\n",
        "\n",
        "def sueldo_prestacion2(calcularSueldo):\n",
        "  return calcularSueldo(sueldo)- Impuesto2(sueldo)\n",
        "\n",
        "def sueldo_prestacion3(calcularSueldo):\n",
        "  return calcularSueldo(sueldo)- Impuesto3(sueldo)\n"
      ]
    },
    {
      "cell_type": "markdown",
      "metadata": {
        "id": "FnkHPXwfOpYH"
      },
      "source": [
        "### INGRESAR SU SUELDO"
      ]
    },
    {
      "cell_type": "code",
      "execution_count": null,
      "metadata": {
        "colab": {
          "base_uri": "https://localhost:8080/"
        },
        "id": "gIX9kdbxH29a",
        "outputId": "1824435f-9c33-42a5-a3d2-1ac6c1af3627"
      },
      "outputs": [
        {
          "name": "stdout",
          "output_type": "stream",
          "text": [
            "Ingrese su sueldo:700\n",
            "Su sueldo es: 635.25\n"
          ]
        }
      ],
      "source": [
        "sueldo= float (input(\"Ingrese su sueldo:\"))\n",
        "\n",
        "print(\"Su sueldo es:\",calcularSueldo(sueldo))\n",
        "\n"
      ]
    },
    {
      "cell_type": "code",
      "execution_count": null,
      "metadata": {
        "colab": {
          "base_uri": "https://localhost:8080/"
        },
        "id": "p-l454srIEoj",
        "outputId": "2594d1d1-0df2-4a10-ab33-5eb64977c4b2"
      },
      "outputs": [
        {
          "name": "stdout",
          "output_type": "stream",
          "text": [
            "Su sueldo Neto es de $ : 601.255\n"
          ]
        }
      ],
      "source": [
        "if sueldo <=472 :\n",
        "  print(\"ud no aplica a ISR su sueldo sigue siendo $ :\",calcularSueldo(sueldo))\n",
        "\n",
        "elif  sueldo >= 472.01 and sueldo <=895.24:\n",
        "  print(\"Su sueldo Neto es de $ :\", sueldo_Prestacion1(calcularSueldo))\n",
        "\n",
        "elif sueldo >= 895.25 and sueldo <=2038.10:\n",
        "  print(\" Su sueldo Neto es de $ :\",sueldo_prestacion2(calcularSueldo))\n",
        "\n",
        "elif sueldo >= 2038.11:\n",
        "  print(\"su sueldo Neto es de $ :\",sueldo_prestacion3(calcularSueldo))\n"
      ]
    },
    {
      "cell_type": "markdown",
      "metadata": {
        "id": "o50EKrlfbph9"
      },
      "source": [
        "###CALCULE SU AGUINALDO Y VACACION"
      ]
    },
    {
      "cell_type": "code",
      "execution_count": null,
      "metadata": {
        "id": "PdG_u0Uf0RGy"
      },
      "outputs": [],
      "source": [
        "def aguinaldo1(sueldoA):\n",
        "  return (sueldoA/30)*15\n",
        "\n",
        "def aguinaldo2(sueldoA):\n",
        "  return (sueldoA/30)*19\n",
        "\n",
        "def aguinaldo3(sueldoA):\n",
        "  return (sueldoA/30)*21\n",
        "\n",
        "def vacacion(sueldoA):\n",
        "  return ((sueldoA/30)*15)*0.30\n",
        "\n",
        "\n",
        "def salario_diario(sueldoA):\n",
        "  return ((sueldoA/30)*15) + vacacion(sueldoA)\n"
      ]
    },
    {
      "cell_type": "code",
      "execution_count": null,
      "metadata": {
        "colab": {
          "base_uri": "https://localhost:8080/"
        },
        "id": "vmKiQReox2TW",
        "outputId": "05900591-6b53-47b5-c3c1-ad6558abcd4d"
      },
      "outputs": [
        {
          "name": "stdout",
          "output_type": "stream",
          "text": [
            "ingres su sueldo $ :1000\n"
          ]
        }
      ],
      "source": [
        "sueldoA = float(input(\"ingres su sueldo $ :\"))"
      ]
    },
    {
      "cell_type": "code",
      "execution_count": null,
      "metadata": {
        "colab": {
          "base_uri": "https://localhost:8080/"
        },
        "id": "djfzPmMayMCf",
        "outputId": "99239c75-c691-41b5-b402-b955de6160db"
      },
      "outputs": [
        {
          "name": "stdout",
          "output_type": "stream",
          "text": [
            "Ingrese su tiempo en años laborales : 6\n",
            "Su aguinaldo es $ : 633.3333333333334\n"
          ]
        }
      ],
      "source": [
        "TiempoLab = int(input(\"Ingrese su tiempo en años laborales : \"))\n",
        "\n",
        "if TiempoLab >= 1 and TiempoLab <= 3:\n",
        "  print(\"Su aguinaldo es $ :\",aguinaldo1(sueldoA))\n",
        "elif TiempoLab >= 4 and TiempoLab <= 9:\n",
        "  print(\"Su aguinaldo es $ :\",aguinaldo2(sueldoA))\n",
        "elif TiempoLab >=10:\n",
        "  print(\"Su aguinaldo es $ :\",aguinaldo3(sueldoA))\n",
        "\n",
        "else:\n",
        "  print(\"Tiempo incorrecto\")\n",
        "\n"
      ]
    },
    {
      "cell_type": "markdown",
      "metadata": {
        "id": "aPivhKZdpf6O"
      },
      "source": [
        "### EJECUTE AQUI PARA OBTENER SU PAGO EN VACACIONES"
      ]
    },
    {
      "cell_type": "code",
      "execution_count": null,
      "metadata": {
        "colab": {
          "base_uri": "https://localhost:8080/"
        },
        "id": "TW1c_1DxF3i8",
        "outputId": "8ac56139-eb02-4ed4-fa0d-2c2088765750"
      },
      "outputs": [
        {
          "name": "stdout",
          "output_type": "stream",
          "text": [
            "Su pago en la vacacion es $ : 650.0\n"
          ]
        }
      ],
      "source": [
        "\n",
        "print(\"Su pago en la vacacion es $ :\",salario_diario(sueldoA))"
      ]
    },
    {
      "cell_type": "markdown",
      "metadata": {
        "id": "fKIczAgnSczR"
      },
      "source": [
        "# 1.1 PARA EMPRESAS"
      ]
    },
    {
      "cell_type": "code",
      "execution_count": null,
      "metadata": {
        "id": "nvNKdJzkVHOr"
      },
      "outputs": [],
      "source": [
        "# para descontar AFP Y ISSS\n",
        "\n",
        "def DesImpuestoE(Fondo):\n",
        "  return (Fondo)*0.07 + (Fondo)*0.15\n",
        "\n",
        "def calcularSueldoE(Fondo):\n",
        "  return(Fondo) - (DesImpuestoE(Fondo)) \n",
        "\n",
        "def Impuesto1E (Fondo):\n",
        "  return (calcularSueldoE(Fondo) - 472.00)*0.10 + 17.67\n",
        "\n",
        "def Impuesto2E (Fondo):\n",
        "  return (calcularSueldoE(Fondo) - 895.24)*0.20 + 60\n",
        "\n",
        "def Impuesto3E (Fondo):\n",
        "  return (calcularSueldoE(Fondo) - 2032.10)*0.30 + 288.57\n",
        "\n",
        "#para calcular sueldo con prestacion de AFP ISSS y ISR\n",
        "\n",
        "def sueldo_Prestacion1E(calcularSueldoE):\n",
        "  return calcularSueldoE(Fondo)- Impuesto1E(Fondo)\n",
        "\n",
        "def sueldo_prestacion2E(calcularSueldoE):\n",
        "  return calcularSueldoE(Fondo)- Impuesto2E(Fondo)\n",
        "\n",
        "def sueldo_prestacion3E(calcularSueldoE):\n",
        "  return calcularSueldoE(Fondo)- Impuesto3E(Fondo)\n"
      ]
    },
    {
      "cell_type": "code",
      "execution_count": null,
      "metadata": {
        "id": "0UntLYicVibo"
      },
      "outputs": [],
      "source": [
        "Fondo = float (input(\"Ingrese sus fondos mensuales:\"))\n",
        "\n",
        "print(\"Nuevo monto con descuento de AFP y ISSS:\",calcularSueldoE(Fondo))\n"
      ]
    },
    {
      "cell_type": "markdown",
      "metadata": {
        "id": "fFdC9wT9Zsmf"
      },
      "source": [
        "### calcule ISR"
      ]
    },
    {
      "cell_type": "code",
      "execution_count": null,
      "metadata": {
        "colab": {
          "base_uri": "https://localhost:8080/"
        },
        "id": "W7XVrZvUYMh3",
        "outputId": "9089c174-3d71-4509-82b9-974a0acb1e98"
      },
      "outputs": [
        {
          "name": "stdout",
          "output_type": "stream",
          "text": [
            "El monto menos la retencion de impuesto mas ISR es de $ : 3051.06\n"
          ]
        }
      ],
      "source": [
        "if Fondo <=472 :\n",
        "  print(\"ud no aplica a ISR su sueldo sigue siendo $ :\",calcularSueldoE(Fondo))\n",
        "\n",
        "elif  Fondo >= 472.01 and Fondo <=895.24:\n",
        "  print(\"Su sueldo Neto es de $ :\", sueldo_Prestacion1E(calcularSueldoE))\n",
        "\n",
        "elif Fondo >= 895.25 and Fondo <=2038.10:\n",
        "  print(\" Su sueldo Neto es de $ :\",sueldo_prestacion2E(calcularSueldoE))\n",
        "\n",
        "elif Fondo >= 2038.11:\n",
        "  print(\"El monto menos la retencion de impuesto mas ISR es de $ :\",sueldo_prestacion3E(calcularSueldoE))"
      ]
    },
    {
      "cell_type": "code",
      "execution_count": null,
      "metadata": {
        "id": "njwJxKzFrGg-"
      },
      "outputs": [],
      "source": [
        "#Desarrolle un algoritmo en Python que calcule el IMPUESTO A LAS \n",
        "#ACTIVIDADES ECONOMICAS de acuerdo con la siguiente tabla. El monto \n",
        "#de la actividad económica debe ser introducido por el usuario. (30%) "
      ]
    },
    {
      "cell_type": "code",
      "execution_count": null,
      "metadata": {
        "colab": {
          "base_uri": "https://localhost:8080/"
        },
        "id": "bIq49LGnABmw",
        "outputId": "e183c1a3-fdae-4bdb-cd39-24a2b22f2d43"
      },
      "outputs": [
        {
          "name": "stdout",
          "output_type": "stream",
          "text": [
            "Ingrese el monto de la actividad economica  : 5678\n",
            "14.355979999999999\n"
          ]
        }
      ],
      "source": [
        "\n",
        "A_economica = float(input(\"Ingrese el monto de la actividad economica  : \"))\n",
        "\n",
        "if A_economica >= 0.01 and A_economica <= 500:\n",
        "    print((((A_economica -0.01)/1000)*0)+1.5)\n",
        "\n",
        "elif A_economica >= 500 and A_economica <= 1000:\n",
        "    print((((A_economica - 500)/1000)*3)+ 1.5)\n",
        "\n",
        "elif A_economica >=1000.01 and A_economica <= 2000:\n",
        "  print((((A_economica - 1000.01)/1000)*3)+3)\n",
        "\n",
        "elif A_economica >=2000.01 and A_economica <= 3000:\n",
        "  print((((A_economica - 2000.01)/1000)*3)+6)\n",
        "\n",
        "elif A_economica >=3000.01 and A_economica <= 6000:\n",
        "  print((((A_economica - 3000.01)/1000)*2)+9)\n",
        "\n",
        "elif A_economica >=8000.01 and A_economica <= 18000:\n",
        "  print((((A_economica - 8000.01)/1000)*2)+15)\n",
        "\n",
        "elif A_economica >=18000.01 and A_economica <= 30000:\n",
        "  print((((A_economica - 18000.01)/1000)*2)+39)\n",
        "\n",
        "elif A_economica >=30000.01 and A_economica <= 60000:\n",
        "  print((((A_economica - 30000.01)/1000)*1)+ 63)\n",
        "\n",
        "elif A_economica >=60000.01 and A_economica <= 100000:\n",
        "  print((((A_economica - 600000.01)/1000)*0.8)+93)\n",
        "\n",
        "elif A_economica >=100000.01 and A_economica <= 200000:\n",
        "  print((((A_economica - 100000.01)/1000)*0.7)+ 125)\n",
        "\n",
        "elif A_economica >=200000.01 and A_economica <= 300000:\n",
        "  print((((A_economica - 200000.01)/1000)*0.6)+ 195)\n",
        "\n",
        "elif A_economica >=300000.01 and A_economica <= 400000:\n",
        "  print((((A_economica - 300000.01)/1000)*0.45)+ 255)\n",
        "\n",
        "elif A_economica >=400000.01 and A_economica <= 500000:\n",
        "  print((((A_economica - 400000.01)/1000)*0.4)+ 300)\n",
        "\n",
        "elif A_economica >=500000.01 and A_economica <= 1000000:\n",
        "  print((((A_economica - 500000.01)/1000)*0.30)+ 340)\n",
        "\n",
        "elif A_economica >=1000000.01 and A_economica <= 99999999 :\n",
        "  print((((A_economica - 1000000.01)/1000)*0.18)+ 490)\n",
        "\n",
        "else: print(\"Opcion invalida\")"
      ]
    },
    {
      "cell_type": "markdown",
      "metadata": {
        "id": "I0BUUbTKMNxV"
      },
      "source": [
        "# CAJERO AUTOMATICO"
      ]
    },
    {
      "cell_type": "code",
      "execution_count": null,
      "metadata": {
        "id": "5-AuZNquMYJ6"
      },
      "outputs": [],
      "source": [
        "print(\"------------------------\")\n",
        "s = \"s\"\n",
        "while s == \"s\":\n",
        "  cantidad = float(input(\"ingrese cantidad a retirar: \"))\n",
        " \n",
        "  if cantidad>=0:\n",
        "    print(\"Sus \",cantidad,\" En los diferentes Billetes y Monedas americanos son \")\n",
        "\n",
        "    if cantidad >= 100:\n",
        "      Billete100 = int(cantidad/100)\n",
        "      resto100 = cantidad % 100\n",
        "      print(Billete100,\" billetes de $100 dólares \") \n",
        "     \n",
        "    if cantidad >= 50:\n",
        "      Billete50 = int(resto100/50)\n",
        "      resto50 = resto100 % 50\n",
        "      print(Billete50,\" billetes de $50 dólares \") \n",
        "\n",
        "    if cantidad >= 20:\n",
        "      Billete20 = int(resto50/20)\n",
        "      resto20 = resto50 % 20\n",
        "      print(Billete20,\" billetes de $20 dólares \") \n",
        "\n",
        "    if cantidad >= 10:\n",
        "      Billete10 = int(resto20/10)\n",
        "      resto10 = resto20 % 10\n",
        "      print(Billete10,\" billetes de $10 dólares \") \n",
        "\n",
        "    if cantidad >= 5:\n",
        "      Billete5 = int(resto10/5)\n",
        "      resto5 = resto10 % 5\n",
        "      print(Billete5,\" billetes de $5 dólares \") \n",
        "\n",
        "    if cantidad >= 1:\n",
        "      Billete1 = int(resto5/1)\n",
        "      resto1 = resto5 % 1\n",
        "      print(Billete1,\" billetes de $1 dólar \") \n",
        "\n",
        "    if cantidad >= 0.25:\n",
        "      Moneda025 = int(resto1/0.25)\n",
        "      resto025 = resto1 % 0.25\n",
        "      print(Moneda025,\" monedas de $0.25 ctvs \") \n",
        "\n",
        "    if cantidad >= 0.10:\n",
        "      Moneda010 = int(resto025/0.10)\n",
        "      resto010 = resto025 % 0.10\n",
        "      print(Moneda010,\" monedas de $0.10 ctvs \")\n",
        "\n",
        "    if cantidad >= 0.05:\n",
        "      Moneda005 = int(resto010/0.05)\n",
        "      resto005 = resto010 % 0.05\n",
        "      print(Moneda005, \" monedas de $0.05 ctvs \")\n",
        "\n",
        "    if cantidad>=0.01:\n",
        "      Moneda001 = int(resto005/0.01)\n",
        "      resto001 = resto005 % 0.01\n",
        "      print(Moneda001,\" monedas de $0.01 ctvs \") \n",
        "\n",
        "  else:\n",
        "    print(\"Cantidad no existente! \")\n",
        "\n",
        "  print(\"------------------------\")\n",
        "  s = input(\"Ingrese la letra s si desea continuar, sino ingrese otra letra \")\n",
        "  print(\"------------------------\")"
      ]
    },
    {
      "cell_type": "markdown",
      "metadata": {
        "id": "qCx_lf12h9Pb"
      },
      "source": [
        "# Conversor de Área"
      ]
    },
    {
      "cell_type": "code",
      "execution_count": null,
      "metadata": {
        "id": "VhjzieRjh5Qx"
      },
      "outputs": [],
      "source": [
        "def pies_metros():\n",
        "  pies = int(input(\"INGRESE LA CANTIDAD DE PIES CUADRADOS QUE DESEA CONVERTIR A METROS CUADRADOS \"))\n",
        "  metros = pies / 10.764\n",
        "  print(pies,\"PIES CUADRADOS EQUIVALEN A \", metros, \"METROS CUADRADOS\")\n",
        "\n",
        "\n",
        "def metros_hectareas ():\n",
        "  metros = int(input(\"INGRESE LA CANTIDAD DE METROS CUADRADOS QUE DESEA CONVERTIR A HECTAREAS \"))\n",
        "  hectareas = metros / 10000\n",
        "  print(metros, \"METROS CUADRADOS EQUIVALEN A \", hectareas, \"HECTAREAS\")\n",
        "\n",
        "\n",
        "def metros_pies():\n",
        "  metros = int(input(\"INGRESE LA CANTIDAD DE METROS CUADRADOS QUE DESEA CONVERTIR A PIES \"))\n",
        "  pies = metros * 10.764\n",
        "  print(metros, \"METROS CUADRADOS EQUIVALEN A \", pies, \"PIES CUADRADOS\")\n",
        "\n",
        "\n",
        "def yardas_pies():\n",
        "  yardas = int(input(\"INGRESE LA CANTIDAD DE YARDAS CUADRADAS QUE DESEA CONVERTIR A PIES \"))\n",
        "  pies = yardas * 9\n",
        "  print(yardas, \"YARDAS CUADRADAS EQUIVALEN A \", pies, \"PIES CUADRADOS\")\n",
        "\n",
        "\n",
        "def hectareas_yardas():\n",
        "  hectareas = int(input(\"INGRESE LA CANTIDAD DE HECTAREAS QUE DESEA CONVERTIR A YARDAS \"))\n",
        "  yardas = hectareas * 11960\n",
        "  print(hectareas, \"HECTAREAS EQUIVALEN A \", yardas, \"YARDAS CUADRADAS\")\n",
        "\n",
        "\n",
        "def manzanas_varas():\n",
        "  manzanas = int(input(\"INGRESE LA CANTIDAD DE MANZANAS QUE DESEA CONVERTIR A VARAS \"))\n",
        "  varas = manzanas * 0.84\n",
        "  print(manzanas, \"MANZANAS EQUIVALEN A \", varas, \"VARAS CUADRADAS\")\n",
        "\n",
        "\n",
        "def tarea_metro():\n",
        "  tarea = int(input(\"INGRESE LA CANTIDAD DE TAREAS QUE DESEA CONVERTIR A METROS CUADRADOS \"))\n",
        "  metro = tarea * 628.86\n",
        "  print(tarea, \"TAREAS EQUIVALEN A \", metro, \"METROS CUADRADOS\")\n",
        "\n",
        "\n",
        "def metros_varas():\n",
        "  metros = int(input(\"INGRESE LA CANTIDAD DE METROS CUADRADOS QUE DESEA CONVERTIR A VARAS \"))\n",
        "  varas = metros / 0.7\n",
        "  print(metros, \"METROS CUADRADOS A\", varas, \"VARAS CUADRADAS\")\n",
        "\n",
        "\n",
        "def tarea_hectarea ():\n",
        "  tarea = int(input(\"INGRESE LA CANTIDAD DE TAREAS QUE DESEA CONVERTIR A HECTAREAS \"))\n",
        "  hectareas = tarea * 0.06288\n",
        "  print(tarea,\"TAREAS EQUIVALEN A \", hectareas, \"HECTAREAS\")\n",
        "\n",
        "\n",
        "def tarea_manzana ():\n",
        "  tarea = int(input(\"INGRESE LA CANTIDAD DE TAREAS QUE DESEA CONVERTIR A MANZANAS \"))\n",
        "  manzana= tarea * 0.06288\n",
        "  print (tarea,\"TAREAS EQUIVALEN A \", manzana, \"MANZANAS\")\n",
        "\n",
        "\n",
        "opcion = int( input(\"\\n*MENU*\\n\\n\"\n",
        "                    \"1. Pies Cuadrados a Metros Cuadrados \\n\"\n",
        "                    \"2. Metros Cuadrados a Hectareas \\n\"\n",
        "                    \"3. Metros Cuadrados a Pies Cuadrados \\n\"\n",
        "                    \"4. Yardas Cuadradas a Pies Cuadrados \\n\"\n",
        "                    \"5. Hectareas a Yardas Cuadradas \\n\"\n",
        "                    \"6. Manzanas a Varas Cuadradas \\n\"\n",
        "                    \"7. Tareas a Metros Cuadrados \\n\"\n",
        "                    \"8. Metros Cuadrados a Varas Cuadradas \\n\"\n",
        "                    \"9. Tareas a Hectareas \\n\"\n",
        "                    \"10. Tareas a Manzanas \\n\"\n",
        "                    \"Ingrese al opcion que desea \\n\\n\"))\n",
        "\n",
        "Diccionario = {1:pies_metros,\n",
        "               2:metros_hectareas,\n",
        "               3:metros_pies,\n",
        "               4:yardas_pies,\n",
        "               5:hectareas_yardas,\n",
        "               6:manzanas_varas,\n",
        "               7:tarea_metro,\n",
        "               8:metros_varas,\n",
        "               9:tarea_hectarea,\n",
        "               10:tarea_manzana}\n",
        "\n",
        "try:\n",
        "  Diccionario[opcion]()\n",
        "except:\n",
        "  print(\"No ha elegido una opcion valida. \")"
      ]
    },
    {
      "cell_type": "code",
      "execution_count": null,
      "metadata": {
        "id": "GRO2q06iLOR4"
      },
      "outputs": [],
      "source": [
        "########################################################################################################################################################\n",
        "########################################################################################################################################################\n",
        "########################################################################################################################################################\n",
        "########################################################################################################################################################"
      ]
    },
    {
      "cell_type": "code",
      "execution_count": null,
      "metadata": {
        "id": "uVXTb3joLWqw"
      },
      "outputs": [],
      "source": [
        "!pip --version\n",
        "!pip -v\n"
      ]
    },
    {
      "cell_type": "code",
      "execution_count": null,
      "metadata": {
        "id": "pmirWKkkEgl8"
      },
      "outputs": [],
      "source": [
        "#POO\n",
        "\n",
        "class deducciones:\n",
        "  def _init_(self, sueldo, porcentajeISSS, porcentajeAFP):#, tablaIsr\n",
        "   self.sueldo = sueldo\n",
        "   self.porcentajeISSS = porcentajeISSS\n",
        "   self.porcentajeAFP = porcentajeAFP\n",
        "  # self.tablaIsr = tablaIsr\n",
        "\n",
        "  def CalcularISSS(self):\n",
        "    return self.sueldo * self.porcentajeISSS/100\n",
        "\n",
        "  def CalcularAFP(self):\n",
        "    return self.sueldo * self.porcentajeAFP/100\n",
        "\n",
        "  def CalcularIsr(self):\n",
        "    self.sueldoNeto = self.sueldo - (self.CalcularISSS() + self.CalcularAFP())\n",
        "\n",
        "    isr = 0\n",
        "    for tramo in self.tablaIsr:\n",
        "      \n",
        "      if self.sueldoNeto >= tramo[0] and self.sueldoNeto <= tramo[1]:\n",
        "        isr = (self.sueldoNeto - tramo[0]) * tramo[2] + tramo[3]\n",
        "  return isr"
      ]
    },
    {
      "cell_type": "code",
      "execution_count": null,
      "metadata": {
        "id": "Nx1B-lMZEnYA"
      },
      "outputs": [],
      "source": [
        "porcentajeISSSE = 7.5\n",
        "porcentajeAFPE =7.75"
      ]
    },
    {
      "cell_type": "code",
      "execution_count": null,
      "metadata": {
        "id": "jJjZxhwoEplv"
      },
      "outputs": [],
      "source": [
        "porcentajeISSSP = 3\n",
        "porcentajeAFPP = 6.25\n",
        "\n",
        "tablaIsrP = [\n",
        "    [0.01,    472,     0,     0],            #TRAMO1\n",
        "    [472.01,  895.24,  0.1,   17.67],        #TRAMO2\n",
        "    [895.25,  2038.10, 0.2,   60],           #TRAMO3\n",
        "    [2038.11, 99999,   0.3,   288.57]        #TRAMO4\n",
        "    ]"
      ]
    },
    {
      "cell_type": "code",
      "execution_count": null,
      "metadata": {
        "id": "6KnIQQJpSxpS"
      },
      "outputs": [],
      "source": [
        "sueldo = float(input(\"Ingrese un sueldo: \"))\n",
        "dp = deducciones(sueldo, porcentajeISSSP, porcentajeAFPP) #, tablaIsrP\n",
        "de = deducciones(sueldo, porcentajeISSSE, porcentajeAFPE)\n",
        "\n",
        "print(\"ISSS personas : \", dp.CalcularISSS(), \"ISSS empresa: \", de.CalcularISSS()) #, \"ISR persona\", dp.CalcularIsr())\n",
        "print(\"AFP personas : \", dp.CalcularAFP(), \"AFP empresa: \", de.CalcularAFP())"
      ]
    },
    {
      "cell_type": "code",
      "execution_count": null,
      "metadata": {
        "id": "KPWg6aiyUrUW"
      },
      "outputs": [],
      "source": []
    },
    {
      "cell_type": "code",
      "execution_count": null,
      "metadata": {
        "id": "UeoFza8gWu4J"
      },
      "outputs": [],
      "source": []
    },
    {
      "cell_type": "code",
      "execution_count": null,
      "metadata": {
        "id": "XqkgAbOBWvSt"
      },
      "outputs": [],
      "source": []
    },
    {
      "cell_type": "code",
      "execution_count": null,
      "metadata": {
        "id": "CdR_RGfqWvjY"
      },
      "outputs": [],
      "source": []
    },
    {
      "cell_type": "code",
      "execution_count": null,
      "metadata": {
        "colab": {
          "base_uri": "https://localhost:8080/"
        },
        "id": "KRI7yXQjWJWN",
        "outputId": "e7c4188e-ed1f-40bf-ec31-f9965015b592"
      },
      "outputs": [
        {
          "name": "stdout",
          "output_type": "stream",
          "text": [
            "JAVA\n"
          ]
        }
      ],
      "source": [
        "# USO DE PANDAS\n",
        "\n",
        "lenguajes = [\"VB\",\"C#\",\"JAVA\",\"XML\",\"PYTHON\",\"PHP\",\"HTML\",\"JS\",\"CSS\"]\n",
        "#print( len(lenguajes), lenguajes.count(\"VB\") )\n",
        "print(lenguajes[2])\n",
        "#for lenguaje in lenguajes:\n",
        "#  print(lenguaje)"
      ]
    },
    {
      "cell_type": "code",
      "execution_count": null,
      "metadata": {
        "colab": {
          "base_uri": "https://localhost:8080/"
        },
        "id": "6pRps1AKWQAA",
        "outputId": "62d84b49-82b6-4a63-96b5-45eb7e296d73"
      },
      "outputs": [
        {
          "name": "stdout",
          "output_type": "stream",
          "text": [
            "VB <class 'str'>\n",
            "C# <class 'str'>\n",
            "['JAVA', 'XML'] <class 'list'>\n",
            "['PYTHON', 'HTML', 'JS', 'CSS'] <class 'list'>\n",
            "['PHP', 'HTML', 'JS', 'CSS'] <class 'list'>\n"
          ]
        }
      ],
      "source": [
        "lenguajes = {\n",
        "    \"fundamentos\":\"VB\",\n",
        "    \"programacion_i\"  : \"C#\",\n",
        "    \"programacion_ii\" : [\"JAVA\", \"XML\"],\n",
        "    \"programacion_iii\": [\"PYTHON\", \"HTML\", \"JS\", \"CSS\"],\n",
        "    \"programacion)iv\" : [\"PHP\", \"HTML\", \"JS\", \"CSS\"]\n",
        "}\n",
        "#print( len(lenguajes[\"programacion_iii\"]) )\n",
        "for key in lenguajes:\n",
        "  print( lenguajes[key], type(lenguajes[key]) )"
      ]
    },
    {
      "cell_type": "code",
      "execution_count": null,
      "metadata": {
        "id": "QZxsaWuUWWdp"
      },
      "outputs": [],
      "source": [
        "#Libreraria pandas\n",
        "import pandas as pd"
      ]
    },
    {
      "cell_type": "code",
      "execution_count": null,
      "metadata": {
        "id": "ML67Ry2SWYra"
      },
      "outputs": [],
      "source": [
        "lenguajes = pd.Series(\n",
        "    [\"VB\",\"C#\",\"JAVA\",\"XML\",\"PYTHON\",\"PHP\",\"HTML\",\"JS\",\"CSS\"],\n",
        "    index=[5,1,2,2,3,4,4,4,4]\n",
        ")\n",
        "print(lenguajes[2])"
      ]
    },
    {
      "cell_type": "code",
      "execution_count": null,
      "metadata": {
        "colab": {
          "base_uri": "https://localhost:8080/"
        },
        "id": "9ANFGhPbWb2I",
        "outputId": "36211c79-a9eb-43c7-f799-3a470011881e"
      },
      "outputs": [
        {
          "name": "stdout",
          "output_type": "stream",
          "text": [
            "VB\n"
          ]
        }
      ],
      "source": [
        "lenguajes = {\n",
        "    \"fundamentos\":\"VB\",\n",
        "    1:\"C#\",\n",
        "    2:\"JAVA\"\n",
        "}\n",
        "pdLenguajes = pd.Series(lenguajes)\n",
        "print(pdLenguajes[\"fundamentos\"])"
      ]
    },
    {
      "cell_type": "code",
      "execution_count": null,
      "metadata": {
        "id": "nY5t4ChmRD51"
      },
      "outputs": [],
      "source": [
        "# ejemplo clase\n",
        "import pandas as pd\n",
        "import matplotlib.pyplot as plt"
      ]
    },
    {
      "cell_type": "code",
      "execution_count": null,
      "metadata": {
        "colab": {
          "base_uri": "https://localhost:8080/"
        },
        "id": "SNTx2i3FRDjw",
        "outputId": "4c78bed9-21f7-4c2e-b990-2514f66ba0ff"
      },
      "outputs": [
        {
          "name": "stdout",
          "output_type": "stream",
          "text": [
            "              alumnos  notas\n",
            "0     julio alexander   10.0\n",
            "1        Ana Carolina    9.5\n",
            "2         Juan carlos    9.0\n",
            "3  Jose pedro Ramirez   10.0\n",
            "4      Nathaly Milena    4.0\n",
            "5         Carlos Ruiz    2.0\n",
            "6     Oscar Hernandez    1.0\n",
            "7         Joan Steven    3.0\n"
          ]
        }
      ],
      "source": [
        "notas = pd.read_csv(\"/content/notas.csv\", sep= \";\")\n",
        "print (notas)\n"
      ]
    },
    {
      "cell_type": "code",
      "execution_count": null,
      "metadata": {
        "colab": {
          "base_uri": "https://localhost:8080/"
        },
        "id": "gb64e6XRpiVo",
        "outputId": "25149757-3aa4-4236-ae69-5f2366ea53b0"
      },
      "outputs": [
        {
          "name": "stdout",
          "output_type": "stream",
          "text": [
            "              alumnos  notas\n",
            "0     julio alexander   10.0\n",
            "1        Ana Carolina    9.5\n",
            "2         Juan carlos    9.0\n",
            "3  Jose pedro Ramirez   10.0\n"
          ]
        }
      ],
      "source": [
        "sobresalientes = notas.loc[notas[\"notas\"]>=9]\n",
        "print(sobresalientes)\n",
        "\n",
        "sobresalientes.to_csv(\"/content/sobresalientes.csv\", sep=\";\")"
      ]
    },
    {
      "cell_type": "code",
      "execution_count": null,
      "metadata": {
        "colab": {
          "base_uri": "https://localhost:8080/"
        },
        "id": "SB7ueOiKqbTW",
        "outputId": "42e0206b-fc36-4566-e262-ca4ed212d204"
      },
      "outputs": [
        {
          "name": "stdout",
          "output_type": "stream",
          "text": [
            "           alumnos  notas\n",
            "4   Nathaly Milena    4.0\n",
            "5      Carlos Ruiz    2.0\n",
            "6  Oscar Hernandez    1.0\n",
            "7      Joan Steven    3.0\n"
          ]
        }
      ],
      "source": [
        "reprobados = notas.loc[notas[\"notas\"]<6]\n",
        "print(reprobados)\n",
        "reprobados.to_csv(\"/content/reprobados.csv\", sep=\";\")"
      ]
    },
    {
      "cell_type": "code",
      "execution_count": null,
      "metadata": {
        "colab": {
          "base_uri": "https://localhost:8080/"
        },
        "id": "7S_trOstrB4E",
        "outputId": "0e012453-aace-46ed-b5be-2a10e1b06d0b"
      },
      "outputs": [
        {
          "name": "stdout",
          "output_type": "stream",
          "text": [
            "       alumnos  notas\n",
            "count        4      4\n"
          ]
        }
      ],
      "source": [
        "count_reprobados = notas.loc[notas[\"notas\"]<6].agg({\"count\"})\n",
        "print(count_reprobados)\n",
        "\n",
        "count_reprobados.to_csv(\"/content/count_reprobados.csv\", sep=\";\")"
      ]
    },
    {
      "cell_type": "code",
      "execution_count": null,
      "metadata": {
        "colab": {
          "base_uri": "https://localhost:8080/",
          "height": 437
        },
        "id": "UqNgF3msrQl6",
        "outputId": "6fea6e0d-2ae7-4807-9a27-a5f17155e315"
      },
      "outputs": [
        {
          "data": {
            "image/png": "[encoded data removed]",
            "text/plain": [
              "<Figure size 432x288 with 1 Axes>"
            ]
          },
          "metadata": {},
          "output_type": "display_data"
        },
        {
          "data": {
            "text/html": [
              "\n",
              "  <div id=\"df-576fc20a-0fe9-4c64-878a-ca6c783df3a8\">\n",
              "    <div class=\"colab-df-container\">\n",
              "      <div>\n",
              "<style scoped>\n",
              "    .dataframe tbody tr th:only-of-type {\n",
              "        vertical-align: middle;\n",
              "    }\n",
              "\n",
              "    .dataframe tbody tr th {\n",
              "        vertical-align: top;\n",
              "    }\n",
              "\n",
              "    .dataframe thead th {\n",
              "        text-align: right;\n",
              "    }\n",
              "</style>\n",
              "<table border=\"1\" class=\"dataframe\">\n",
              "  <thead>\n",
              "    <tr style=\"text-align: right;\">\n",
              "      <th></th>\n",
              "      <th>alumnos</th>\n",
              "      <th>notas</th>\n",
              "    </tr>\n",
              "  </thead>\n",
              "  <tbody>\n",
              "    <tr>\n",
              "      <th>0</th>\n",
              "      <td>julio alexander</td>\n",
              "      <td>10.0</td>\n",
              "    </tr>\n",
              "    <tr>\n",
              "      <th>1</th>\n",
              "      <td>Ana Carolina</td>\n",
              "      <td>9.5</td>\n",
              "    </tr>\n",
              "    <tr>\n",
              "      <th>2</th>\n",
              "      <td>Juan carlos</td>\n",
              "      <td>9.0</td>\n",
              "    </tr>\n",
              "    <tr>\n",
              "      <th>3</th>\n",
              "      <td>Jose pedro Ramirez</td>\n",
              "      <td>10.0</td>\n",
              "    </tr>\n",
              "  </tbody>\n",
              "</table>\n",
              "</div>\n",
              "      <button class=\"colab-df-convert\" onclick=\"convertToInteractive('df-576fc20a-0fe9-4c64-878a-ca6c783df3a8')\"\n",
              "              title=\"Convert this dataframe to an interactive table.\"\n",
              "              style=\"display:none;\">\n",
              "        \n",
              "  <svg xmlns=\"http://www.w3.org/2000/svg\" height=\"24px\"viewBox=\"0 0 24 24\"\n",
              "       width=\"24px\">\n",
              "    <path d=\"M0 0h24v24H0V0z\" fill=\"none\"/>\n",
              "    <path d=\"M18.56 5.44l.94 2.06.94-2.06 2.06-.94-2.06-.94-.94-2.06-.94 2.06-2.06.94zm-11 1L8.5 8.5l.94-2.06 2.06-.94-2.06-.94L8.5 2.5l-.94 2.06-2.06.94zm10 10l.94 2.06.94-2.06 2.06-.94-2.06-.94-.94-2.06-.94 2.06-2.06.94z\"/><path d=\"M17.41 7.96l-1.37-1.37c-.4-.4-.92-.59-1.43-.59-.52 0-1.04.2-1.43.59L10.3 9.45l-7.72 7.72c-.78.78-.78 2.05 0 2.83L4 21.41c.39.39.9.59 1.41.59.51 0 1.02-.2 1.41-.59l7.78-7.78 2.81-2.81c.8-.78.8-2.07 0-2.86zM5.41 20L4 18.59l7.72-7.72 1.47 1.35L5.41 20z\"/>\n",
              "  </svg>\n",
              "      </button>\n",
              "      \n",
              "  <style>\n",
              "    .colab-df-container {\n",
              "      display:flex;\n",
              "      flex-wrap:wrap;\n",
              "      gap: 12px;\n",
              "    }\n",
              "\n",
              "    .colab-df-convert {\n",
              "      background-color: #E8F0FE;\n",
              "      border: none;\n",
              "      border-radius: 50%;\n",
              "      cursor: pointer;\n",
              "      display: none;\n",
              "      fill: #1967D2;\n",
              "      height: 32px;\n",
              "      padding: 0 0 0 0;\n",
              "      width: 32px;\n",
              "    }\n",
              "\n",
              "    .colab-df-convert:hover {\n",
              "      background-color: #E2EBFA;\n",
              "      box-shadow: 0px 1px 2px rgba(60, 64, 67, 0.3), 0px 1px 3px 1px rgba(60, 64, 67, 0.15);\n",
              "      fill: #174EA6;\n",
              "    }\n",
              "\n",
              "    [theme=dark] .colab-df-convert {\n",
              "      background-color: #3B4455;\n",
              "      fill: #D2E3FC;\n",
              "    }\n",
              "\n",
              "    [theme=dark] .colab-df-convert:hover {\n",
              "      background-color: #434B5C;\n",
              "      box-shadow: 0px 1px 3px 1px rgba(0, 0, 0, 0.15);\n",
              "      filter: drop-shadow(0px 1px 2px rgba(0, 0, 0, 0.3));\n",
              "      fill: #FFFFFF;\n",
              "    }\n",
              "  </style>\n",
              "\n",
              "      <script>\n",
              "        const buttonEl =\n",
              "          document.querySelector('#df-576fc20a-0fe9-4c64-878a-ca6c783df3a8 button.colab-df-convert');\n",
              "        buttonEl.style.display =\n",
              "          google.colab.kernel.accessAllowed ? 'block' : 'none';\n",
              "\n",
              "        async function convertToInteractive(key) {\n",
              "          const element = document.querySelector('#df-576fc20a-0fe9-4c64-878a-ca6c783df3a8');\n",
              "          const dataTable =\n",
              "            await google.colab.kernel.invokeFunction('convertToInteractive',\n",
              "                                                     [key], {});\n",
              "          if (!dataTable) return;\n",
              "\n",
              "          const docLinkHtml = 'Like what you see? Visit the ' +\n",
              "            '<a target=\"_blank\" href=https://colab.research.google.com/notebooks/data_table.ipynb>data table notebook</a>'\n",
              "            + ' to learn more about interactive tables.';\n",
              "          element.innerHTML = '';\n",
              "          dataTable['output_type'] = 'display_data';\n",
              "          await google.colab.output.renderOutput(dataTable, element);\n",
              "          const docLink = document.createElement('div');\n",
              "          docLink.innerHTML = docLinkHtml;\n",
              "          element.appendChild(docLink);\n",
              "        }\n",
              "      </script>\n",
              "    </div>\n",
              "  </div>\n",
              "  "
            ],
            "text/plain": [
              "              alumnos  notas\n",
              "0     julio alexander   10.0\n",
              "1        Ana Carolina    9.5\n",
              "2         Juan carlos    9.0\n",
              "3  Jose pedro Ramirez   10.0"
            ]
          },
          "execution_count": 25,
          "metadata": {},
          "output_type": "execute_result"
        }
      ],
      "source": [
        "tabla_sobresaliente = pd.crosstab(index=sobresalientes[\"notas\"], columns=\"fr\")\n",
        "plt.bar(sobresalientes[\"alumnos\"], sobresalientes[\"notas\"])\n",
        "plt.xlabel(\"Cantidad de estudiantes con buena nota\")\n",
        "plt.show()\n",
        "sobresalientes"
      ]
    },
    {
      "cell_type": "code",
      "execution_count": null,
      "metadata": {
        "colab": {
          "base_uri": "https://localhost:8080/",
          "height": 317
        },
        "id": "dKSwbTXarcZo",
        "outputId": "955aaaed-04e9-47a0-f20d-d2ba17035da5"
      },
      "outputs": [
        {
          "name": "stderr",
          "output_type": "stream",
          "text": [
            "/usr/local/lib/python3.7/dist-packages/ipykernel_launcher.py:3: MatplotlibDeprecationWarning: Non-1D inputs to pie() are currently squeeze()d, but this behavior is deprecated since 3.1 and will be removed in 3.3; pass a 1D array instead.\n",
            "  This is separate from the ipykernel package so we can avoid doing imports until\n"
          ]
        },
        {
          "data": {
            "image/png": "[encoded data removed]",
            "text/plain": [
              "<Figure size 432x288 with 1 Axes>"
            ]
          },
          "metadata": {},
          "output_type": "display_data"
        }
      ],
      "source": [
        "tabla_sobresalientes = pd.crosstab(index = sobresalientes[\"notas\"], columns = \"fr\")\n",
        "#print(tabla_sobresalientes)\n",
        "plt.pie(tabla_sobresalientes, labels = tabla_sobresalientes.index)\n",
        "plt.xlabel(\"Cantidad de estudiantes con buena nota\")\n",
        "plt.show()"
      ]
    },
    {
      "cell_type": "code",
      "execution_count": null,
      "metadata": {
        "id": "e0QstUwgUFt1"
      },
      "outputs": [],
      "source": []
    },
    {
      "cell_type": "code",
      "execution_count": null,
      "metadata": {
        "id": "ijs-PJTS3w3b"
      },
      "outputs": [],
      "source": []
    },
    {
      "cell_type": "code",
      "execution_count": null,
      "metadata": {
        "id": "h2n2WpGdUTYv"
      },
      "outputs": [],
      "source": [
        "import pandas as pd\n",
        "import matplotlib.pyplot as plt"
      ]
    },
    {
      "cell_type": "code",
      "execution_count": null,
      "metadata": {
        "colab": {
          "base_uri": "https://localhost:8080/"
        },
        "id": "C3jXeOV3UWvP",
        "outputId": "33fa6c1b-90b1-4921-e5fe-0bb9b4632fea"
      },
      "outputs": [
        {
          "name": "stdout",
          "output_type": "stream",
          "text": [
            "                  City       Date  Card Type Exp Type Gender  Amount\n",
            "Delhi            India  29-Oct-14       Gold    Bills      F   82475\n",
            "Greater Mumbai   India  22-Aug-14   Platinum    Bills      F   32555\n",
            "Bengaluru        India  27-Aug-14     Silver    Bills      F  101738\n",
            "Greater Mumbai   India  12-Apr-14  Signature    Bills      F  123424\n",
            "Bengaluru        India   5-May-15       Gold    Bills      F  171574\n",
            "...                ...        ...        ...      ...    ...     ...\n",
            "Kolkata          India  22-Jun-14     Silver   Travel      F  128191\n",
            "Pune             India   3-Aug-14  Signature   Travel      M  246316\n",
            "Hyderabad        India  16-Jan-15     Silver   Travel      M  265019\n",
            "Kanpur           India  14-Sep-14     Silver   Travel      M   88174\n",
            "Hyderabad        India  19-Oct-13  Signature    Bills      M  184410\n",
            "\n",
            "[26052 rows x 6 columns]\n"
          ]
        }
      ],
      "source": [
        "Tarjetas = pd.read_csv(\"//content/Tarjetas.csv\", sep= \",\")\n",
        "print(Tarjetas)\n"
      ]
    },
    {
      "cell_type": "markdown",
      "metadata": {
        "id": "m6QBUR-p1i60"
      },
      "source": [
        "## UTILIZACION DE TARJETA DE CREDITO POR SEXO"
      ]
    },
    {
      "cell_type": "code",
      "execution_count": null,
      "metadata": {
        "colab": {
          "base_uri": "https://localhost:8080/"
        },
        "id": "i8cclZGlZMZE",
        "outputId": "03c54106-f713-4664-b870-1eece22305fb"
      },
      "outputs": [
        {
          "name": "stdout",
          "output_type": "stream",
          "text": [
            "Gender\n",
            "F    13680\n",
            "M    12372\n",
            "dtype: int64\n"
          ]
        }
      ],
      "source": [
        "Genero = Tarjetas.value_counts(\"Gender\")\n",
        "print(Genero)\n",
        "\n",
        "Genero.to_csv(\"/content/genero.csv\", sep=\";\")\n",
        "\n"
      ]
    },
    {
      "cell_type": "code",
      "execution_count": null,
      "metadata": {
        "colab": {
          "base_uri": "https://localhost:8080/",
          "height": 387
        },
        "id": "tjLFM1Cg2vsY",
        "outputId": "33f8c7a5-3ae1-454b-bb47-02497e374899"
      },
      "outputs": [
        {
          "name": "stderr",
          "output_type": "stream",
          "text": [
            "/usr/local/lib/python3.7/dist-packages/ipykernel_launcher.py:3: MatplotlibDeprecationWarning: Non-1D inputs to pie() are currently squeeze()d, but this behavior is deprecated since 3.1 and will be removed in 3.3; pass a 1D array instead.\n",
            "  This is separate from the ipykernel package so we can avoid doing imports until\n"
          ]
        },
        {
          "data": {
            "image/png": "[encoded data removed]",
            "text/plain": [
              "<Figure size 432x288 with 1 Axes>"
            ]
          },
          "metadata": {},
          "output_type": "display_data"
        },
        {
          "name": "stdout",
          "output_type": "stream",
          "text": [
            "col_0      fr\n",
            "Gender       \n",
            "F       13680\n",
            "M       12372\n"
          ]
        }
      ],
      "source": [
        "tabla_Genero = pd.crosstab(index = Tarjetas[\"Gender\"], columns = \"fr\")\n",
        "espacio = (0.1, 0.1, )\n",
        "plt.pie(tabla_Genero, labels = tabla_Genero.index, autopct = '%0.1f %%', shadow = True, explode = espacio)\n",
        "plt.xlabel(\"Cantidad de cada genero F y M\")\n",
        "plt.show()\n",
        "print(tabla_Genero)\n",
        "\n"
      ]
    },
    {
      "cell_type": "code",
      "execution_count": null,
      "metadata": {
        "colab": {
          "base_uri": "https://localhost:8080/",
          "height": 278
        },
        "id": "En89z3lpUVjK",
        "outputId": "e7796479-22b3-49dd-a3ae-a468261334d5"
      },
      "outputs": [
        {
          "data": {
            "image/png": "[encoded data removed]",
            "text/plain": [
              "<Figure size 432x288 with 1 Axes>"
            ]
          },
          "metadata": {},
          "output_type": "display_data"
        }
      ],
      "source": [
        "Genero.plot.bar()\n",
        "plt.bar(range(2), Genero, align='center', color=['red','green'])\n",
        "plt.xlabel(\"Género\", c = 'blue')\n",
        "plt.ylabel(\"Cantidad\", c = 'red')\n",
        "plt.grid(b = True, lw = .4)\n",
        "plt.show()\n",
        "\n"
      ]
    },
    {
      "cell_type": "markdown",
      "metadata": {
        "id": "3hAj-39a1NIG"
      },
      "source": [
        "## TOTAL UTILIZADO POR TIPO DE GASTO"
      ]
    },
    {
      "cell_type": "code",
      "execution_count": null,
      "metadata": {
        "colab": {
          "base_uri": "https://localhost:8080/"
        },
        "id": "w_4cOgve5X0s",
        "outputId": "f3dc0a79-1a1e-474c-f1b5-18bfcc532f9a"
      },
      "outputs": [
        {
          "name": "stdout",
          "output_type": "stream",
          "text": [
            "                  Amount\n",
            "Exp Type                \n",
            "Bills          907072473\n",
            "Entertainment  726437536\n",
            "Food           824724009\n",
            "Fuel           789135821\n",
            "Grocery        718207923\n",
            "Travel         109255611\n"
          ]
        }
      ],
      "source": [
        "Gasto = Tarjetas.groupby(['Exp Type'])[['Amount']].sum()\n",
        "print(Gasto)\n",
        "\n",
        "Gasto.to_csv(\"/content/Gasto.csv\", sep = \";\")\n",
        "\n"
      ]
    },
    {
      "cell_type": "code",
      "execution_count": null,
      "metadata": {
        "colab": {
          "base_uri": "https://localhost:8080/",
          "height": 317
        },
        "id": "eHPoglfd-ye3",
        "outputId": "3cd4401c-fb73-496c-d635-54baa22ba9a2"
      },
      "outputs": [
        {
          "name": "stderr",
          "output_type": "stream",
          "text": [
            "/usr/local/lib/python3.7/dist-packages/ipykernel_launcher.py:3: MatplotlibDeprecationWarning: Non-1D inputs to pie() are currently squeeze()d, but this behavior is deprecated since 3.1 and will be removed in 3.3; pass a 1D array instead.\n",
            "  This is separate from the ipykernel package so we can avoid doing imports until\n"
          ]
        },
        {
          "data": {
            "image/png": "[encoded data removed]",
            "text/plain": [
              "<Figure size 432x288 with 1 Axes>"
            ]
          },
          "metadata": {},
          "output_type": "display_data"
        }
      ],
      "source": [
        "tabla_Gasto = pd.crosstab(index = Tarjetas['Exp Type'], columns = 'fr')\n",
        "espacio = (0.1, 0.1, 0.1, 0.1, 0.1, 0.1)\n",
        "plt.pie(tabla_Gasto, labels = tabla_Gasto.index, autopct = '%0.1f %%', shadow = True, explode = espacio)\n",
        "plt.xlabel('Total utilizado por tipo de gasto')\n",
        "plt.show()"
      ]
    },
    {
      "cell_type": "markdown",
      "metadata": {
        "id": "KXtNXkmn_mBS"
      },
      "source": [
        "# Total de dólares utilizados diferenciando tarjetas de crédito por ciudad"
      ]
    },
    {
      "cell_type": "code",
      "execution_count": null,
      "metadata": {
        "colab": {
          "base_uri": "https://localhost:8080/"
        },
        "id": "MJjBU8aj-8kl",
        "outputId": "c886069a-91ef-4e1a-dfa7-fb45b1428122"
      },
      "outputs": [
        {
          "name": "stdout",
          "output_type": "stream",
          "text": [
            "                      Amount\n",
            "City   Card Type            \n",
            " India Gold        984539536\n",
            "       Platinum   1007639019\n",
            "       Signature  1013041105\n",
            "       Silver     1069613713\n"
          ]
        }
      ],
      "source": [
        "Ciudades = Tarjetas.groupby([\"City\", \"Card Type\"]).sum()\n",
        "print(Ciudades)\n",
        "Ciudades.to_csv(\"/content/Ciudades.csv\", sep = \";\")"
      ]
    },
    {
      "cell_type": "code",
      "execution_count": null,
      "metadata": {
        "colab": {
          "base_uri": "https://localhost:8080/",
          "height": 317
        },
        "id": "T9WGSEdf_b-D",
        "outputId": "11b8e3f9-6317-4092-c54c-57a84dc1341e"
      },
      "outputs": [
        {
          "name": "stderr",
          "output_type": "stream",
          "text": [
            "/usr/local/lib/python3.7/dist-packages/ipykernel_launcher.py:3: MatplotlibDeprecationWarning: Non-1D inputs to pie() are currently squeeze()d, but this behavior is deprecated since 3.1 and will be removed in 3.3; pass a 1D array instead.\n",
            "  This is separate from the ipykernel package so we can avoid doing imports until\n"
          ]
        },
        {
          "data": {
            "image/png": "[encoded data removed]",
            "text/plain": [
              "<Figure size 432x288 with 1 Axes>"
            ]
          },
          "metadata": {},
          "output_type": "display_data"
        }
      ],
      "source": [
        "tabla_Ciudad = pd.crosstab(index = Tarjetas['Card Type'], columns = 'fr')\n",
        "espacio = (0.1, 0.1, 0.1, 0.1)\n",
        "plt.pie(tabla_Ciudad, labels = tabla_Ciudad.index, autopct = '%0.1f %%', shadow = True, explode = espacio)\n",
        "plt.xlabel('Registro de gastos por tipo de tarjeta')\n",
        "plt.show()"
      ]
    },
    {
      "cell_type": "code",
      "execution_count": null,
      "metadata": {
        "id": "mbxVSErXJfza"
      },
      "outputs": [],
      "source": []
    },
    {
      "cell_type": "markdown",
      "metadata": {
        "id": "2Wc4Qp4pOxcp"
      },
      "source": [
        "# USANDO TENSORFLOW"
      ]
    },
    {
      "cell_type": "code",
      "execution_count": null,
      "metadata": {
        "id": "8u9mSlXVJfNB"
      },
      "outputs": [],
      "source": [
        "!pip install tensorFlow"
      ]
    },
    {
      "cell_type": "code",
      "execution_count": null,
      "metadata": {
        "id": "CpCr0nRAcJSK"
      },
      "outputs": [],
      "source": [
        "#importamos libreria de tensorflow\n",
        "import tensorflow as tf\n"
      ]
    },
    {
      "cell_type": "code",
      "execution_count": null,
      "metadata": {
        "colab": {
          "base_uri": "https://localhost:8080/"
        },
        "id": "GeXaT3RUcUat",
        "outputId": "83743573-2532-4e6f-bae2-551da2ae3b8c"
      },
      "outputs": [
        {
          "name": "stdout",
          "output_type": "stream",
          "text": [
            "10\n"
          ]
        }
      ],
      "source": [
        "suma = tf.add(5,5).numpy()\n",
        "print(suma)"
      ]
    },
    {
      "cell_type": "code",
      "execution_count": null,
      "metadata": {
        "id": "FEHaYbO-cwY6"
      },
      "outputs": [],
      "source": [
        "x = 5\n",
        "y = 5\n",
        "z = x + y\n",
        "print(z)"
      ]
    },
    {
      "cell_type": "code",
      "execution_count": null,
      "metadata": {
        "id": "WmpVJg7wPxUu"
      },
      "outputs": [],
      "source": []
    },
    {
      "cell_type": "markdown",
      "metadata": {
        "id": "JVT1868tU958"
      },
      "source": [
        "# ENTRENAMIENTO DE UNA IA PARA QUE APRENDA A CONVERTIR TEMPERATURAS DE CELSIUES A FAHRENHEIT"
      ]
    },
    {
      "cell_type": "code",
      "execution_count": null,
      "metadata": {
        "id": "0ioHaPVZVOQR"
      },
      "outputs": [],
      "source": [
        "# IMPORTAR LIBRERIAS\n",
        "import tensorflow as tf\n",
        "import matplotlib.pyplot as plt\n",
        "import pandas as pd\n",
        "import seaborn as sb\n"
      ]
    },
    {
      "cell_type": "code",
      "execution_count": null,
      "metadata": {
        "colab": {
          "base_uri": "https://localhost:8080/"
        },
        "id": "nhAlETA0WFff",
        "outputId": "46c3ca37-1727-47fe-9652-b3ee57adcb66"
      },
      "outputs": [
        {
          "name": "stdout",
          "output_type": "stream",
          "text": [
            "     c      f\n",
            "0  -40  -40.0\n",
            "1  -30  -22.0\n",
            "2  -20   -4.0\n",
            "3  -10   14.0\n",
            "4   -5   23.0\n",
            "5   -4   24.8\n",
            "6   -3   26.6\n",
            "7   -2   28.4\n",
            "8   -1   30.2\n",
            "9    0   32.0\n",
            "10   1   33.8\n",
            "11   2   35.6\n",
            "12   3   37.4\n",
            "13   4   39.2\n",
            "14   5   41.0\n",
            "15  10   50.0\n",
            "16  20   68.0\n",
            "17  30   86.0\n",
            "18  40  104.0\n"
          ]
        }
      ],
      "source": [
        "temperaturas = pd.read_csv(\"/content/temperaturas.csv\", sep=\";\")\n",
        "print(temperaturas)"
      ]
    },
    {
      "cell_type": "code",
      "execution_count": null,
      "metadata": {
        "id": "nl90xY7_XE3N"
      },
      "outputs": [],
      "source": [
        "# DATOS DE ENTRENAMIENTO\n",
        "\n",
        "c = temperaturas[\"c\"]\n",
        "f = temperaturas[\"f\"]"
      ]
    },
    {
      "cell_type": "code",
      "execution_count": null,
      "metadata": {
        "colab": {
          "base_uri": "https://localhost:8080/",
          "height": 334
        },
        "id": "saggG0vsXWcP",
        "outputId": "63224999-5c0d-42c7-d69a-0b858da0408a"
      },
      "outputs": [
        {
          "name": "stderr",
          "output_type": "stream",
          "text": [
            "/usr/local/lib/python3.7/dist-packages/seaborn/_decorators.py:43: FutureWarning: Pass the following variables as keyword args: x, y. From version 0.12, the only valid positional argument will be `data`, and passing other arguments without an explicit keyword will result in an error or misinterpretation.\n",
            "  FutureWarning\n"
          ]
        },
        {
          "data": {
            "image/png": "[encoded data removed]",
            "text/plain": [
              "<Figure size 432x288 with 1 Axes>"
            ]
          },
          "metadata": {},
          "output_type": "display_data"
        }
      ],
      "source": [
        "# graficar los datos de entrenamiento\n",
        "\n",
        "sb.scatterplot(c,f)\n",
        "plt.show()\n",
        "\n"
      ]
    },
    {
      "cell_type": "code",
      "execution_count": null,
      "metadata": {
        "id": "Q3h-EUOnX0DW"
      },
      "outputs": [],
      "source": [
        "#modelo de entrenamiento, con 1 capa densa (oculta)\n",
        "modelo = tf.keras.Sequential()\n",
        "modelo.add(tf.keras.layers.Dense(units=1,input_shape=[1]))\n"
      ]
    },
    {
      "cell_type": "code",
      "execution_count": null,
      "metadata": {
        "id": "T6cpfi_uX2Iy"
      },
      "outputs": [],
      "source": [
        "# compilar el modelo\n",
        "modelo.compile(optimizer=tf.keras.optimizers.Adam(1),loss=\"mean_squared_error\")"
      ]
    },
    {
      "cell_type": "code",
      "execution_count": null,
      "metadata": {
        "id": "1Zwz-6DMZT4O"
      },
      "outputs": [],
      "source": [
        "# entrenar modelo\n",
        "epocas = modelo.fit(c,f, epochs=150,verbose=1)"
      ]
    },
    {
      "cell_type": "code",
      "execution_count": null,
      "metadata": {
        "colab": {
          "base_uri": "https://localhost:8080/"
        },
        "id": "bhAH3UhpaSBh",
        "outputId": "3160179c-df32-4458-f711-bc2bea9cd031"
      },
      "outputs": [
        {
          "name": "stdout",
          "output_type": "stream",
          "text": [
            "[[10431.36]]\n"
          ]
        }
      ],
      "source": [
        "# probar IA\n",
        "resp = modelo.predict([5778])\n",
        "print(resp)"
      ]
    },
    {
      "cell_type": "code",
      "execution_count": null,
      "metadata": {
        "id": "xLCqu-FWcMV-"
      },
      "outputs": [],
      "source": []
    },
    {
      "cell_type": "markdown",
      "metadata": {
        "id": "k9Qmi6LzfbHR"
      },
      "source": [
        "# CELSIUS A KELVIN"
      ]
    },
    {
      "cell_type": "code",
      "execution_count": null,
      "metadata": {
        "id": "-wAJXTBcf7i6"
      },
      "outputs": [],
      "source": [
        "# IMPORTAR LIBRERIAS\n",
        "import tensorflow as tf\n",
        "import matplotlib.pyplot as plt\n",
        "import pandas as pd\n",
        "import seaborn as sb"
      ]
    },
    {
      "cell_type": "code",
      "execution_count": null,
      "metadata": {
        "colab": {
          "base_uri": "https://localhost:8080/"
        },
        "id": "xTl6XL5JfZy3",
        "outputId": "ffddaedc-d8f7-46e7-dc77-296cd72e65f5"
      },
      "outputs": [
        {
          "name": "stdout",
          "output_type": "stream",
          "text": [
            "     c       k\n",
            "0  -40  233.15\n",
            "1  -30  243.15\n",
            "2  -20  253.15\n",
            "3  -10  263.15\n",
            "4   -5  268.15\n",
            "5   -4  269.15\n",
            "6   -3  270.15\n",
            "7   -2  270.15\n",
            "8   -1  272.15\n",
            "9    0  273.15\n",
            "10   1  274.15\n",
            "11   2  275.15\n",
            "12   3  276.15\n",
            "13   4  277.15\n",
            "14   5  278.15\n",
            "15  10  283.15\n",
            "16  20  293.15\n",
            "17  30  303.15\n",
            "18  40  313.15\n"
          ]
        }
      ],
      "source": [
        "temperaturask = pd.read_csv(\"/content/temperaturask.csv\", sep=\";\")\n",
        "print(temperaturask)"
      ]
    },
    {
      "cell_type": "code",
      "execution_count": null,
      "metadata": {
        "id": "nSkdA8iQfopT"
      },
      "outputs": [],
      "source": [
        "c = temperaturask[\"c\"]\n",
        "k = temperaturask[\"k\"]"
      ]
    },
    {
      "cell_type": "code",
      "execution_count": null,
      "metadata": {
        "colab": {
          "base_uri": "https://localhost:8080/",
          "height": 334
        },
        "id": "d94JcVMbfxdF",
        "outputId": "3914c7cb-f233-476e-8a01-272f079b27ff"
      },
      "outputs": [
        {
          "name": "stderr",
          "output_type": "stream",
          "text": [
            "/usr/local/lib/python3.7/dist-packages/seaborn/_decorators.py:43: FutureWarning: Pass the following variables as keyword args: x, y. From version 0.12, the only valid positional argument will be `data`, and passing other arguments without an explicit keyword will result in an error or misinterpretation.\n",
            "  FutureWarning\n"
          ]
        },
        {
          "data": {
            "image/png": "[encoded data removed]",
            "text/plain": [
              "<Figure size 432x288 with 1 Axes>"
            ]
          },
          "metadata": {},
          "output_type": "display_data"
        }
      ],
      "source": [
        "sb.scatterplot(c,k)\n",
        "plt.show()\n"
      ]
    },
    {
      "cell_type": "code",
      "execution_count": null,
      "metadata": {
        "id": "BlNKJDXiisPU"
      },
      "outputs": [],
      "source": [
        "#modelo de entrenamiento, con 1 capa densa (oculta)\n",
        "modelos = tf.keras.Sequential()\n",
        "modelos.add(tf.keras.layers.Dense(units=1,input_shape=[1]))"
      ]
    },
    {
      "cell_type": "code",
      "execution_count": null,
      "metadata": {
        "id": "iqGKbZ0Pi3Yg"
      },
      "outputs": [],
      "source": [
        "# compilar el modelo\n",
        "modelos.compile(optimizer=tf.keras.optimizers.Adam(1),loss=\"mean_squared_error\")"
      ]
    },
    {
      "cell_type": "code",
      "execution_count": null,
      "metadata": {
        "id": "7kcM81RCi8-6"
      },
      "outputs": [],
      "source": [
        "# entrenar modelo\n",
        "Epocas = modelos.fit(c,k, epochs=300,verbose=1)"
      ]
    },
    {
      "cell_type": "code",
      "execution_count": null,
      "metadata": {
        "colab": {
          "base_uri": "https://localhost:8080/"
        },
        "id": "mvgcQEJqjJk5",
        "outputId": "dd6f423e-0509-4389-9a63-3f8e89881aee"
      },
      "outputs": [
        {
          "name": "stdout",
          "output_type": "stream",
          "text": [
            "[[268.45563]]\n"
          ]
        }
      ],
      "source": [
        "# probar IA\n",
        "respuesta = modelos.predict([23])\n",
        "print(respuesta)"
      ]
    },
    {
      "cell_type": "markdown",
      "metadata": {
        "id": "Ibm57afdUTcE"
      },
      "source": [
        "# SEMANA 11\n",
        "# practica entranando una red neuronal que aprenda a predecir prendas de vestir\n"
      ]
    },
    {
      "cell_type": "code",
      "source": [
        "#1. Importar las librerias.\n",
        "import tensorflow as tf\n",
        "import matplotlib.pyplot as plt\n",
        "import numpy as np\n",
        "import math\n",
        "import tensorflow_datasets as tfds"
      ],
      "metadata": {
        "id": "sQepXd0n47LT"
      },
      "execution_count": 1,
      "outputs": []
    },
    {
      "cell_type": "code",
      "source": [
        "#2. Cargamos el dataset\n",
        "dataset, metadata = tfds.load('fashion_mnist', as_supervised=True, with_info=True)\n",
        "#print(dataset[\"train\"])\n",
        "datos_entrenamiento, datos_prueba = dataset[\"train\"], dataset[\"test\"]"
      ],
      "metadata": {
        "id": "_iu8sJzd4_MK"
      },
      "execution_count": 2,
      "outputs": []
    },
    {
      "cell_type": "code",
      "source": [
        "#monstrar una imagen...\n",
        "for img in datos_entrenamiento.take(1):\n",
        "  print(img)\n",
        "  img = img[0].numpy().reshape(1,28,28,1)\n",
        "  plt.grid(False)\n",
        "  plt.imshow(img[0, ..., 0], cmap=plt.cm.binary)"
      ],
      "metadata": {
        "id": "G1LRXMTsDNqj"
      },
      "execution_count": null,
      "outputs": []
    },
    {
      "cell_type": "code",
      "source": [
        "#3. #asignar las etiquetas son 10\n",
        "Etiquetas = [\"Camiseta\", \"Pantalon\", \"Abrigo\", \"Vestido\", \"Sueter\", \"Sandalia\", \"Camisa\", \"Tenis\", \"Cartera\", \"Bota\"]"
      ],
      "metadata": {
        "id": "Nygdw2ig5IHf"
      },
      "execution_count": 4,
      "outputs": []
    },
    {
      "cell_type": "code",
      "source": [
        "#4. obtener la cantidad de datos.\n",
        "#print(metadata)\n",
        "cantidad_prendas_entrenamiento = metadata.splits[\"train\"].num_examples\n",
        "cantidad_prendas_prueba = metadata.splits[\"test\"].num_examples\n",
        "print(cantidad_prendas_entrenamiento, cantidad_prendas_prueba)"
      ],
      "metadata": {
        "colab": {
          "base_uri": "https://localhost:8080/"
        },
        "id": "TFFa_fw25KtH",
        "outputId": "8f1d7ef8-95c0-44e4-f0c6-bdeef5a5ff52"
      },
      "execution_count": 5,
      "outputs": [
        {
          "output_type": "stream",
          "name": "stdout",
          "text": [
            "60000 10000\n"
          ]
        }
      ]
    },
    {
      "cell_type": "code",
      "source": [
        "#5. funcion normalizadora de los pixeles de 0 - 255 que sean valores de 0 - 1\n",
        "def normalizacion(img, label):\n",
        "  img = tf.cast(img, tf.float32)\n",
        "  img /= 255 #236/255 = 0.004237288\n",
        "  return img, label"
      ],
      "metadata": {
        "id": "up4OkgSD5NAs"
      },
      "execution_count": 6,
      "outputs": []
    },
    {
      "cell_type": "code",
      "source": [
        "#6. Llamamos la funcion normlizadora\n",
        "datos_entrenamiento = datos_entrenamiento.map(normalizacion)\n",
        "datos_prueba = datos_prueba.map(normalizacion)\n",
        "\n",
        "#for img in datos_entrenamiento.take(1):\n",
        "  #print(img[0])#5.58150468e-08 => 0.0000000558150468"
      ],
      "metadata": {
        "id": "xy9zTHfl5N_l"
      },
      "execution_count": 7,
      "outputs": []
    },
    {
      "cell_type": "code",
      "source": [
        "#7. Arquitectura de la red neuronal\n",
        "modelo = tf.keras.Sequential([\n",
        "    tf.keras.layers.Flatten(input_shape=(28,28,1)), #capa de entrada con 784 neuronas a un 1 canal, una por cada pixel\n",
        "    tf.keras.layers.Dense(64, activation=tf.nn.relu), #capa oculta con 64 neuronas, \n",
        "    #con la funcion de activacion relu, nos devuelve valores entre 0 y 1\n",
        "    tf.keras.layers.Dense(64, activation=tf.nn.relu),\n",
        "    tf.keras.layers.Dense(10, activation=tf.nn.softmax) #la capa de salida tiene 10 neuronas, \n",
        "    #con la funcion de activacion softmax ideal para clasificacion\n",
        "])"
      ],
      "metadata": {
        "id": "pOW0uANN5Q_E"
      },
      "execution_count": 8,
      "outputs": []
    },
    {
      "cell_type": "code",
      "source": [
        "#8. Compilacion del modelo\n",
        "modelo.compile(\n",
        "    optimizer=\"adam\",\n",
        "    loss=\"sparse_categorical_crossentropy\",\n",
        "    metrics=['accuracy']\n",
        ")"
      ],
      "metadata": {
        "id": "rEBO-bxT5TZT"
      },
      "execution_count": 9,
      "outputs": []
    },
    {
      "cell_type": "code",
      "source": [
        "#9. entrenamiento de la red neuronal\n",
        "size_lote = 32 #60,000 / 32 = 1875\n",
        "datos_entrenamiento = datos_entrenamiento.repeat().shuffle(cantidad_prendas_entrenamiento).batch(size_lote)\n",
        "datos_prueba = datos_prueba.repeat().shuffle(cantidad_prendas_prueba).batch(size_lote)"
      ],
      "metadata": {
        "id": "BN6rS2uH5VuF"
      },
      "execution_count": 10,
      "outputs": []
    },
    {
      "cell_type": "code",
      "source": [
        "#10. Realizamos el entrenamiento\n",
        "modelo.fit(datos_entrenamiento, epochs=5,\n",
        "           steps_per_epoch=math.ceil(cantidad_prendas_entrenamiento/size_lote))"
      ],
      "metadata": {
        "colab": {
          "base_uri": "https://localhost:8080/"
        },
        "id": "ZN-ZxFDy5VoJ",
        "outputId": "334975f1-afae-42ca-b6a5-e434a93cfe59"
      },
      "execution_count": 11,
      "outputs": [
        {
          "output_type": "stream",
          "name": "stdout",
          "text": [
            "Epoch 1/5\n",
            "1875/1875 [==============================] - 13s 4ms/step - loss: 0.5037 - accuracy: 0.8208\n",
            "Epoch 2/5\n",
            "1875/1875 [==============================] - 7s 4ms/step - loss: 0.3728 - accuracy: 0.8651\n",
            "Epoch 3/5\n",
            "1875/1875 [==============================] - 7s 4ms/step - loss: 0.3434 - accuracy: 0.8744\n",
            "Epoch 4/5\n",
            "1875/1875 [==============================] - 7s 4ms/step - loss: 0.3164 - accuracy: 0.8824\n",
            "Epoch 5/5\n",
            "1875/1875 [==============================] - 7s 4ms/step - loss: 0.3074 - accuracy: 0.8879\n"
          ]
        },
        {
          "output_type": "execute_result",
          "data": {
            "text/plain": [
              "<keras.callbacks.History at 0x7f62b615d810>"
            ]
          },
          "metadata": {},
          "execution_count": 11
        }
      ]
    },
    {
      "cell_type": "code",
      "source": [
        "#Pendiente los passos adicionales.\n",
        "#probar la IA.\n",
        "i=0\n",
        "for miImg, etiqueta in datos_entrenamiento.take(1):\n",
        "  etiqueta = etiqueta.numpy()\n",
        "  img = miImg[i].numpy().reshape(1,28,28,1)\n",
        "  prediccion = modelo.predict(img, batch_size=1)\n",
        "\n",
        "  valor_predicho = np.argmax(prediccion)\n",
        "  print(valor_predicho, etiqueta[i])\n",
        "\n",
        "  plt.grid(False)\n",
        "  plt.imshow(img[0,...,0], cmap=plt.cm.binary)\n",
        "  plt.xlabel(\"Prediccion: {}\".format(Etiquetas[valor_predicho]), color=\"green\")\n",
        "\n",
        "\n",
        " "
      ],
      "metadata": {
        "colab": {
          "base_uri": "https://localhost:8080/",
          "height": 296
        },
        "id": "27Irdke15aLO",
        "outputId": "e91c1d36-4958-4d2b-9e2c-311f33938eb8"
      },
      "execution_count": 13,
      "outputs": [
        {
          "output_type": "stream",
          "name": "stdout",
          "text": [
            "3 4\n"
          ]
        },
        {
          "output_type": "display_data",
          "data": {
            "text/plain": [
              "<Figure size 432x288 with 1 Axes>"
            ],
            "image/png": "[encoded data removed]"
          },
          "metadata": {
            "needs_background": "light"
          }
        }
      ]
    },
    {
      "cell_type": "markdown",
      "source": [
        "# importando valores de prueba desde el equipo para intentar una prediccion con el modelo ya entrenado"
      ],
      "metadata": {
        "id": "cUcBp0JmABJe"
      }
    },
    {
      "cell_type": "code",
      "source": [
        "\n",
        "from google.colab import files\n",
        "import cv2\n",
        "uploaded = files.upload()\n",
        "imagen_prueba = cv2.imread(\"/content/sueter.jpg\",cv2.IMREAD_GRAYSCALE)\n",
        "imagen_prueba = cv2.resize(imagen_prueba,(28,28))\n",
        "img_predic = modelo.predict(imagen_prueba.reshape(1,28,28,1))\n",
        "valor_prediccion = np.argmax(img_predic)\n",
        "\n",
        "plt.grid(False)\n",
        "plt.imshow(imagen_prueba,cmap=plt.cm.binary)\n",
        "plt.xlabel(\"Prediccion:{}\".format(Etiquetas[valor_prediccion]),color=\"blue\")\n",
        "print(valor_prediccion)"
      ],
      "metadata": {
        "id": "EgVGk_lJJQYT"
      },
      "execution_count": null,
      "outputs": []
    }
  ],
  "metadata": {
    "colab": {
      "collapsed_sections": [],
      "provenance": [],
      "authorship_tag": "ABX9TyPUZDwqVlFSsKDW/Ck+4IOp",
      "include_colab_link": true
    },
    "kernelspec": {
      "display_name": "Python 3",
      "name": "python3"
    },
    "language_info": {
      "name": "python"
    }
  },
  "nbformat": 4,
  "nbformat_minor": 0
}